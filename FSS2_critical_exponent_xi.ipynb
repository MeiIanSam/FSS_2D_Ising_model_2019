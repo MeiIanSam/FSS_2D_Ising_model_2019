{
 "cells": [
  {
   "cell_type": "code",
   "execution_count": 42,
   "metadata": {},
   "outputs": [],
   "source": [
    "import numpy as np\n",
    "import pandas as pd\n",
    "import matplotlib.pyplot as plt\n",
    "from scipy.optimize import curve_fit"
   ]
  },
  {
   "cell_type": "code",
   "execution_count": 43,
   "metadata": {},
   "outputs": [],
   "source": [
    "def fitting(x,m,c):\n",
    "    return m*x+c\n",
    "\n",
    "def differentiate(zips):\n",
    "    XYpairs = list(zips)\n",
    "    results = []\n",
    "    for i in range(len(XYpairs)-1):\n",
    "        x1,y1 = XYpairs[i]\n",
    "        x2,y2 = XYpairs[i+1]\n",
    "        new_x   = (x1+x2)/2\n",
    "        results.append((new_x,slope(x1,y1,x2,y2)))\n",
    "    new_Xs,Diffs = zip(*results)\n",
    "    return np.array(new_Xs),np.array(Diffs)\n",
    "\n",
    "# for i,(num_RG,values) in enumerate(M4s[start:-1]):\n",
    "#     scaling_fn = M4s[start+i][1]/(M2s[start+i][1])\n",
    "#     XYpairs = zip(a1,scaling_fn)\n",
    "#     diff_a1,diff_scaling_fn = differentiate(XYpairs)\n",
    "#     f_val.append(diff_scaling_fn[30])"
   ]
  },
  {
   "cell_type": "code",
   "execution_count": 48,
   "metadata": {},
   "outputs": [
    {
     "name": "stdout",
     "output_type": "stream",
     "text": [
      "[2.273, 2.272] [0.849011113731676, 0.8467861734205442]\n",
      "[2.224940311131108]\n",
      "[2.273, 2.272] [0.8831709450694184, 0.8897565414429587]\n",
      "[2.224940311131108, 6.585596373538082]\n",
      "[2.273, 2.272] [0.8900909780940865, 0.846807741680704]\n",
      "[2.224940311131108, 6.585596373538082, 43.283236413368044]\n",
      "[2.273, 2.272] [0.849496378186836, 0.9260418110711174]\n",
      "[2.224940311131108, 6.585596373538082, 43.283236413368044, 76.54543288425583]\n",
      "[1.38629436 2.07944154 2.77258872 3.4657359 ] [0.79973009 1.8848849  3.76776541 4.33788446]\n"
     ]
    },
    {
     "data": {
      "text/plain": [
       "<matplotlib.legend.Legend at 0x15812e068d0>"
      ]
     },
     "execution_count": 48,
     "metadata": {},
     "output_type": "execute_result"
    },
    {
     "data": {
      "image/png": "[encoded data removed]",
      "text/plain": [
       "<Figure size 432x288 with 1 Axes>"
      ]
     },
     "metadata": {},
     "output_type": "display_data"
    }
   ],
   "source": [
    "Ls=[4,8,16,32]\n",
    "diffs=[]\n",
    "ylist=[]\n",
    "for L in Ls:\n",
    "    df = pd.read_csv('for nu2 L=%.d.csv'%L)\n",
    "    x=[df.iloc[1,1],df.iloc[0,1]]\n",
    "    y=[df.iloc[1,2]/L,df.iloc[0,2]/L]\n",
    "    print(x,y)\n",
    "    diff=abs((y[1]-y[0])/(x[1]-x[0]))\n",
    "    diffs.append(diff)\n",
    "    print(diffs)\n",
    "diffs=np.array(diffs)\n",
    "diffs=np.log(diffs)\n",
    "Ls=np.array(Ls)\n",
    "Ls=np.log(Ls)\n",
    "print(Ls,diffs)\n",
    "para,_=curve_fit(fitting,Ls,diffs)\n",
    "for L in Ls:\n",
    "    y= fitting(L,*para)\n",
    "    ylist.append(y)\n",
    "plt.plot(Ls,ylist,label='fitting y= %.2f x + %.2f'%tuple(para))\n",
    "plt.plot(Ls,diffs,'o',label='data')\n",
    "plt.legend()"
   ]
  },
  {
   "cell_type": "code",
   "execution_count": 65,
   "metadata": {},
   "outputs": [
    {
     "name": "stdout",
     "output_type": "stream",
     "text": [
      "[2.273, 2.272] [0.8534362394866818, 0.8554289648785249]\n",
      "[1.9927253918424765]\n",
      "[2.273, 2.272] [0.8869750634217198, 0.892486774091039]\n",
      "[1.9927253918424765, 5.511710669317374]\n",
      "[2.273, 2.272] [0.8976427650825366, 0.895243879290279]\n",
      "[1.9927253918424765, 5.511710669317374, 2.3988857922567535]\n",
      "[2.273, 2.272] [0.867269105913755, 0.8882486242704916]\n",
      "[1.9927253918424765, 5.511710669317374, 2.3988857922567535, 20.97951835672961]\n",
      "[1.38629436 2.07944154 2.77258872 3.4657359 ] [0.68950325 1.70687504 0.87500438 3.04354665]\n",
      "[ 0.89883644 -0.60185847]\n"
     ]
    },
    {
     "data": {
      "text/plain": [
       "Text(0.5,1,'ln (xi/L) vs lnL')"
      ]
     },
     "execution_count": 65,
     "metadata": {},
     "output_type": "execute_result"
    },
    {
     "data": {
      "image/png": "[encoded data removed]",
      "text/plain": [
       "<Figure size 432x288 with 1 Axes>"
      ]
     },
     "metadata": {},
     "output_type": "display_data"
    }
   ],
   "source": [
    "Ls=[4,8,16,32]\n",
    "diffs=[]\n",
    "ylist=[]\n",
    "for L in Ls:\n",
    "    df = pd.read_csv('for nu L=%.d.csv'%L)\n",
    "    x=[df.iloc[1,1],df.iloc[0,1]]\n",
    "    y=[df.iloc[1,2]/L,df.iloc[0,2]/L]\n",
    "    print(x,y)\n",
    "    diff=abs((y[1]-y[0])/(x[1]-x[0]))\n",
    "    diffs.append(diff)\n",
    "    print(diffs)\n",
    "diffs=np.array(diffs)\n",
    "diffs=np.log(diffs)\n",
    "Ls=np.array(Ls)\n",
    "Ls=np.log(Ls)\n",
    "print(Ls,diffs)\n",
    "para,_=curve_fit(fitting,Ls,diffs)\n",
    "for L in Ls:\n",
    "    y= fitting(L,*para)\n",
    "    ylist.append(y)\n",
    "plt.plot(Ls,ylist,label='fitting y= %.2f x + %.2f'%tuple(para))\n",
    "plt.plot(Ls,diffs,'o',label='data')\n",
    "plt.legend()\n",
    "print(para)\n",
    "plt.title('ln (xi/L) vs lnL')"
   ]
  }
 ],
 "metadata": {
  "kernelspec": {
   "display_name": "Python 3",
   "language": "python",
   "name": "python3"
  },
  "language_info": {
   "codemirror_mode": {
    "name": "ipython",
    "version": 3
   },
   "file_extension": ".py",
   "mimetype": "text/x-python",
   "name": "python",
   "nbconvert_exporter": "python",
   "pygments_lexer": "ipython3",
   "version": "3.6.5"
  }
 },
 "nbformat": 4,
 "nbformat_minor": 2
}
